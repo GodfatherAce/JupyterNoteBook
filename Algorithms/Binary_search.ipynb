{
 "cells": [
  {
   "cell_type": "markdown",
   "metadata": {},
   "source": [
    "# Binary search: O(logN)"
   ]
  },
  {
   "cell_type": "markdown",
   "metadata": {},
   "source": [
    "# Import data from nba.txt in a table\n",
    "\n",
    "As we can see the data is not organized in columns (everything is in single column) if we just do pd.read_table"
   ]
  },
  {
   "cell_type": "code",
   "execution_count": 35,
   "metadata": {
    "collapsed": false
   },
   "outputs": [
    {
     "name": "stdout",
     "output_type": "stream",
     "text": [
      "(499, 1)\n"
     ]
    },
    {
     "data": {
      "text/html": [
       "<div>\n",
       "<table border=\"1\" class=\"dataframe\">\n",
       "  <thead>\n",
       "    <tr style=\"text-align: right;\">\n",
       "      <th></th>\n",
       "      <th>Quincy Acy Tor SF  23  7 8.5 15.3  14.9  0.102 8 0.625 9 0.444 5 0.4 0.542 2.7 2.1 14.7  0.6 10.3  0.57  0.43  7.1</th>\n",
       "    </tr>\n",
       "  </thead>\n",
       "  <tbody>\n",
       "    <tr>\n",
       "      <th>0</th>\n",
       "      <td>Quincy Acy  Sac SF  23  56  13.9  28.6  9.9 0....</td>\n",
       "    </tr>\n",
       "    <tr>\n",
       "      <th>1</th>\n",
       "      <td>Steven Adams  Okc C 20  81  14.6  30.2  11.8  ...</td>\n",
       "    </tr>\n",
       "  </tbody>\n",
       "</table>\n",
       "</div>"
      ],
      "text/plain": [
       "  Quincy Acy Tor SF  23  7 8.5 15.3  14.9  0.102 8 0.625 9 0.444 5 0.4 0.542 2.7 2.1 14.7  0.6 10.3  0.57  0.43  7.1\n",
       "0  Quincy Acy  Sac SF  23  56  13.9  28.6  9.9 0....                                                                \n",
       "1  Steven Adams  Okc C 20  81  14.6  30.2  11.8  ...                                                                "
      ]
     },
     "execution_count": 35,
     "metadata": {},
     "output_type": "execute_result"
    }
   ],
   "source": [
    "import pandas as pd\n",
    "import math\n",
    "nba = pd.read_table('nba.txt')\n",
    "# nba.describe\n",
    "print(nba.shape)\n",
    "nba.head(2)"
   ]
  },
  {
   "cell_type": "markdown",
   "metadata": {},
   "source": [
    "# Add columns to the data\n",
    "\n",
    "We can provide meaningful names to the columns and then read the data in tables accordingly"
   ]
  },
  {
   "cell_type": "code",
   "execution_count": 36,
   "metadata": {
    "collapsed": false
   },
   "outputs": [
    {
     "name": "stdout",
     "output_type": "stream",
     "text": [
      "(500, 25)\n"
     ]
    },
    {
     "data": {
      "text/html": [
       "<div>\n",
       "<table border=\"1\" class=\"dataframe\">\n",
       "  <thead>\n",
       "    <tr style=\"text-align: right;\">\n",
       "      <th></th>\n",
       "      <th>FirstName</th>\n",
       "      <th>LastName</th>\n",
       "      <th>team</th>\n",
       "      <th>pos</th>\n",
       "      <th>age</th>\n",
       "      <th>gp</th>\n",
       "      <th>mpg</th>\n",
       "      <th>min%</th>\n",
       "      <th>usg%</th>\n",
       "      <th>tor</th>\n",
       "      <th>...</th>\n",
       "      <th>3p%</th>\n",
       "      <th>ts%</th>\n",
       "      <th>ppg</th>\n",
       "      <th>rpg</th>\n",
       "      <th>trb%</th>\n",
       "      <th>apg</th>\n",
       "      <th>ast%</th>\n",
       "      <th>spg</th>\n",
       "      <th>bpg</th>\n",
       "      <th>vi</th>\n",
       "    </tr>\n",
       "  </thead>\n",
       "  <tbody>\n",
       "    <tr>\n",
       "      <th>0</th>\n",
       "      <td>Quincy</td>\n",
       "      <td>Acy</td>\n",
       "      <td>Tor</td>\n",
       "      <td>SF</td>\n",
       "      <td>23</td>\n",
       "      <td>7.0</td>\n",
       "      <td>8.5</td>\n",
       "      <td>15.3</td>\n",
       "      <td>14.9</td>\n",
       "      <td>0.102</td>\n",
       "      <td>...</td>\n",
       "      <td>0.4</td>\n",
       "      <td>0.542</td>\n",
       "      <td>2.7</td>\n",
       "      <td>2.1</td>\n",
       "      <td>14.7</td>\n",
       "      <td>0.6</td>\n",
       "      <td>10.3</td>\n",
       "      <td>0.57</td>\n",
       "      <td>0.43</td>\n",
       "      <td>7.1</td>\n",
       "    </tr>\n",
       "    <tr>\n",
       "      <th>1</th>\n",
       "      <td>Quincy</td>\n",
       "      <td>Acy</td>\n",
       "      <td>Sac</td>\n",
       "      <td>SF</td>\n",
       "      <td>23</td>\n",
       "      <td>56.0</td>\n",
       "      <td>13.9</td>\n",
       "      <td>28.6</td>\n",
       "      <td>9.9</td>\n",
       "      <td>0.160</td>\n",
       "      <td>...</td>\n",
       "      <td>0.2</td>\n",
       "      <td>0.518</td>\n",
       "      <td>2.7</td>\n",
       "      <td>3.6</td>\n",
       "      <td>14.5</td>\n",
       "      <td>0.4</td>\n",
       "      <td>4.5</td>\n",
       "      <td>0.34</td>\n",
       "      <td>0.41</td>\n",
       "      <td>4.5</td>\n",
       "    </tr>\n",
       "  </tbody>\n",
       "</table>\n",
       "<p>2 rows × 25 columns</p>\n",
       "</div>"
      ],
      "text/plain": [
       "  FirstName LastName team pos  age    gp   mpg  min%  usg%    tor ...   3p%  \\\n",
       "0    Quincy      Acy  Tor  SF   23   7.0   8.5  15.3  14.9  0.102 ...   0.4   \n",
       "1    Quincy      Acy  Sac  SF   23  56.0  13.9  28.6   9.9  0.160 ...   0.2   \n",
       "\n",
       "     ts%  ppg  rpg  trb%  apg  ast%   spg   bpg   vi  \n",
       "0  0.542  2.7  2.1  14.7  0.6  10.3  0.57  0.43  7.1  \n",
       "1  0.518  2.7  3.6  14.5  0.4   4.5  0.34  0.41  4.5  \n",
       "\n",
       "[2 rows x 25 columns]"
      ]
     },
     "execution_count": 36,
     "metadata": {},
     "output_type": "execute_result"
    }
   ],
   "source": [
    "\n",
    "column_name= ['FirstName','LastName','team','pos','age','gp','mpg','min%','usg%','tor','fta',\n",
    "              'ft','2pa','2p%','3pa','3p%','ts%','ppg','rpg','trb%','apg','ast%','spg','bpg','vi']\n",
    "\n",
    "nba = pd.read_table('nba.txt', names=column_name, delim_whitespace=True)\n",
    "print(nba.shape)\n",
    "nba.head(2)\n"
   ]
  },
  {
   "cell_type": "markdown",
   "metadata": {},
   "source": [
    "# Sort Data\n",
    "\n",
    " Now that we have data organized in columns, time to sort them according to name alphabetically.\n",
    " \n",
    " 'name' which is 'FirstName, LastName' now resides in the last column\n",
    " \n",
    " We can also reset indices to match with alphabetically arranged data"
   ]
  },
  {
   "cell_type": "code",
   "execution_count": 48,
   "metadata": {
    "collapsed": false
   },
   "outputs": [
    {
     "name": "stdout",
     "output_type": "stream",
     "text": [
      "(500, 28)\n"
     ]
    },
    {
     "data": {
      "text/html": [
       "<div>\n",
       "<table border=\"1\" class=\"dataframe\">\n",
       "  <thead>\n",
       "    <tr style=\"text-align: right;\">\n",
       "      <th></th>\n",
       "      <th>level_0</th>\n",
       "      <th>index</th>\n",
       "      <th>FirstName</th>\n",
       "      <th>LastName</th>\n",
       "      <th>team</th>\n",
       "      <th>pos</th>\n",
       "      <th>age</th>\n",
       "      <th>gp</th>\n",
       "      <th>mpg</th>\n",
       "      <th>min%</th>\n",
       "      <th>...</th>\n",
       "      <th>ts%</th>\n",
       "      <th>ppg</th>\n",
       "      <th>rpg</th>\n",
       "      <th>trb%</th>\n",
       "      <th>apg</th>\n",
       "      <th>ast%</th>\n",
       "      <th>spg</th>\n",
       "      <th>bpg</th>\n",
       "      <th>vi</th>\n",
       "      <th>name</th>\n",
       "    </tr>\n",
       "  </thead>\n",
       "  <tbody>\n",
       "    <tr>\n",
       "      <th>0</th>\n",
       "      <td>0</td>\n",
       "      <td>70</td>\n",
       "      <td>Aaron</td>\n",
       "      <td>Brooks</td>\n",
       "      <td>Hou</td>\n",
       "      <td>PG</td>\n",
       "      <td>29</td>\n",
       "      <td>43.0</td>\n",
       "      <td>16.5</td>\n",
       "      <td>33.9</td>\n",
       "      <td>...</td>\n",
       "      <td>0.529</td>\n",
       "      <td>7.0</td>\n",
       "      <td>1.4</td>\n",
       "      <td>4.9</td>\n",
       "      <td>1.9</td>\n",
       "      <td>18.3</td>\n",
       "      <td>0.58</td>\n",
       "      <td>0.14</td>\n",
       "      <td>6.4</td>\n",
       "      <td>Aaron, Brooks</td>\n",
       "    </tr>\n",
       "    <tr>\n",
       "      <th>1</th>\n",
       "      <td>1</td>\n",
       "      <td>71</td>\n",
       "      <td>Aaron</td>\n",
       "      <td>Brooks</td>\n",
       "      <td>Den</td>\n",
       "      <td>PG</td>\n",
       "      <td>29</td>\n",
       "      <td>29.0</td>\n",
       "      <td>28.8</td>\n",
       "      <td>59.3</td>\n",
       "      <td>...</td>\n",
       "      <td>0.508</td>\n",
       "      <td>11.9</td>\n",
       "      <td>2.7</td>\n",
       "      <td>5.0</td>\n",
       "      <td>5.2</td>\n",
       "      <td>28.0</td>\n",
       "      <td>0.93</td>\n",
       "      <td>0.24</td>\n",
       "      <td>7.6</td>\n",
       "      <td>Aaron, Brooks</td>\n",
       "    </tr>\n",
       "    <tr>\n",
       "      <th>2</th>\n",
       "      <td>2</td>\n",
       "      <td>194</td>\n",
       "      <td>Aaron</td>\n",
       "      <td>Gray</td>\n",
       "      <td>Sac</td>\n",
       "      <td>C</td>\n",
       "      <td>29</td>\n",
       "      <td>33.0</td>\n",
       "      <td>10.0</td>\n",
       "      <td>20.4</td>\n",
       "      <td>...</td>\n",
       "      <td>0.455</td>\n",
       "      <td>1.8</td>\n",
       "      <td>3.1</td>\n",
       "      <td>17.7</td>\n",
       "      <td>0.6</td>\n",
       "      <td>8.4</td>\n",
       "      <td>0.30</td>\n",
       "      <td>0.24</td>\n",
       "      <td>6.0</td>\n",
       "      <td>Aaron, Gray</td>\n",
       "    </tr>\n",
       "    <tr>\n",
       "      <th>3</th>\n",
       "      <td>3</td>\n",
       "      <td>449</td>\n",
       "      <td>Adonis</td>\n",
       "      <td>Thomas</td>\n",
       "      <td>Orl</td>\n",
       "      <td>SF</td>\n",
       "      <td>20</td>\n",
       "      <td>4.0</td>\n",
       "      <td>5.9</td>\n",
       "      <td>9.5</td>\n",
       "      <td>...</td>\n",
       "      <td>0.371</td>\n",
       "      <td>1.8</td>\n",
       "      <td>0.8</td>\n",
       "      <td>7.2</td>\n",
       "      <td>0.5</td>\n",
       "      <td>13.6</td>\n",
       "      <td>0.00</td>\n",
       "      <td>0.00</td>\n",
       "      <td>6.1</td>\n",
       "      <td>Adonis, Thomas</td>\n",
       "    </tr>\n",
       "    <tr>\n",
       "      <th>4</th>\n",
       "      <td>4</td>\n",
       "      <td>450</td>\n",
       "      <td>Adonis</td>\n",
       "      <td>Thomas</td>\n",
       "      <td>Phi</td>\n",
       "      <td>F</td>\n",
       "      <td>20</td>\n",
       "      <td>2.0</td>\n",
       "      <td>6.4</td>\n",
       "      <td>9.7</td>\n",
       "      <td>...</td>\n",
       "      <td>0.700</td>\n",
       "      <td>3.5</td>\n",
       "      <td>0.0</td>\n",
       "      <td>0.0</td>\n",
       "      <td>0.5</td>\n",
       "      <td>14.4</td>\n",
       "      <td>0.00</td>\n",
       "      <td>0.00</td>\n",
       "      <td>0.0</td>\n",
       "      <td>Adonis, Thomas</td>\n",
       "    </tr>\n",
       "  </tbody>\n",
       "</table>\n",
       "<p>5 rows × 28 columns</p>\n",
       "</div>"
      ],
      "text/plain": [
       "   level_0  index FirstName LastName team pos  age    gp   mpg  min%  \\\n",
       "0        0     70     Aaron   Brooks  Hou  PG   29  43.0  16.5  33.9   \n",
       "1        1     71     Aaron   Brooks  Den  PG   29  29.0  28.8  59.3   \n",
       "2        2    194     Aaron     Gray  Sac   C   29  33.0  10.0  20.4   \n",
       "3        3    449    Adonis   Thomas  Orl  SF   20   4.0   5.9   9.5   \n",
       "4        4    450    Adonis   Thomas  Phi   F   20   2.0   6.4   9.7   \n",
       "\n",
       "        ...          ts%   ppg  rpg  trb%  apg  ast%   spg   bpg   vi  \\\n",
       "0       ...        0.529   7.0  1.4   4.9  1.9  18.3  0.58  0.14  6.4   \n",
       "1       ...        0.508  11.9  2.7   5.0  5.2  28.0  0.93  0.24  7.6   \n",
       "2       ...        0.455   1.8  3.1  17.7  0.6   8.4  0.30  0.24  6.0   \n",
       "3       ...        0.371   1.8  0.8   7.2  0.5  13.6  0.00  0.00  6.1   \n",
       "4       ...        0.700   3.5  0.0   0.0  0.5  14.4  0.00  0.00  0.0   \n",
       "\n",
       "             name  \n",
       "0   Aaron, Brooks  \n",
       "1   Aaron, Brooks  \n",
       "2     Aaron, Gray  \n",
       "3  Adonis, Thomas  \n",
       "4  Adonis, Thomas  \n",
       "\n",
       "[5 rows x 28 columns]"
      ]
     },
     "execution_count": 48,
     "metadata": {},
     "output_type": "execute_result"
    }
   ],
   "source": [
    "nba['name'] = nba['FirstName']+', '+nba['LastName']\n",
    "nba = nba.sort_values(by='name')\n",
    "nba = nba.reset_index()\n",
    "print(nba.shape)\n",
    "nba.head(5)\n"
   ]
  },
  {
   "cell_type": "code",
   "execution_count": 49,
   "metadata": {
    "collapsed": false
   },
   "outputs": [
    {
     "name": "stdout",
     "output_type": "stream",
     "text": [
      "500\n"
     ]
    },
    {
     "data": {
      "text/plain": [
       "0.23999999999999999"
      ]
     },
     "execution_count": 49,
     "metadata": {},
     "output_type": "execute_result"
    }
   ],
   "source": [
    "print(len(nba))\n",
    "# A function to extract a player's last name\n",
    "def format_name(name):\n",
    "    return name.split(\" \")[1] + \", \" + name.split(\" \")[0]\n",
    "\n",
    "format_name(\"Aaron, Gray\")\n",
    "nba.iloc[1,25]"
   ]
  },
  {
   "cell_type": "markdown",
   "metadata": {},
   "source": [
    "# Binary Search on Data \n"
   ]
  },
  {
   "cell_type": "code",
   "execution_count": 45,
   "metadata": {
    "collapsed": false
   },
   "outputs": [
    {
     "name": "stdout",
     "output_type": "stream",
     "text": [
      "5.4\n"
     ]
    },
    {
     "ename": "TypeError",
     "evalue": "'>' not supported between instances of 'numpy.ndarray' and 'str'",
     "output_type": "error",
     "traceback": [
      "\u001b[0;31m---------------------------------------------------------------------------\u001b[0m",
      "\u001b[0;31mTypeError\u001b[0m                                 Traceback (most recent call last)",
      "\u001b[0;32m<ipython-input-45-53fa18cb735f>\u001b[0m in \u001b[0;36m<module>\u001b[0;34m()\u001b[0m\n\u001b[1;32m     33\u001b[0m     \u001b[0;31m#\"\"\"\u001b[0m\u001b[0;34m\u001b[0m\u001b[0;34m\u001b[0m\u001b[0m\n\u001b[1;32m     34\u001b[0m \u001b[0;34m\u001b[0m\u001b[0m\n\u001b[0;32m---> 35\u001b[0;31m \u001b[0mcurry_age\u001b[0m \u001b[0;34m=\u001b[0m \u001b[0mplayer_age\u001b[0m\u001b[0;34m(\u001b[0m\u001b[0;34m\"Stephen Curry\"\u001b[0m\u001b[0;34m)\u001b[0m\u001b[0;34m\u001b[0m\u001b[0m\n\u001b[0m\u001b[1;32m     36\u001b[0m \u001b[0mprint\u001b[0m\u001b[0;34m(\u001b[0m\u001b[0mcurry_age\u001b[0m\u001b[0;34m)\u001b[0m\u001b[0;34m\u001b[0m\u001b[0m\n\u001b[1;32m     37\u001b[0m \u001b[0;31m#griffin_age = player_age(\"Blake Griffin\")\u001b[0m\u001b[0;34m\u001b[0m\u001b[0;34m\u001b[0m\u001b[0m\n",
      "\u001b[0;32m<ipython-input-45-53fa18cb735f>\u001b[0m in \u001b[0;36mplayer_age\u001b[0;34m(name)\u001b[0m\n\u001b[1;32m     13\u001b[0m \u001b[0;34m\u001b[0m\u001b[0m\n\u001b[1;32m     14\u001b[0m     \u001b[0;32mwhile\u001b[0m \u001b[0mname\u001b[0m \u001b[0;34m!=\u001b[0m \u001b[0mguess\u001b[0m \u001b[0;32mand\u001b[0m \u001b[0mupper_bound\u001b[0m \u001b[0;34m>=\u001b[0m \u001b[0mlower_bound\u001b[0m\u001b[0;34m:\u001b[0m\u001b[0;34m\u001b[0m\u001b[0m\n\u001b[0;32m---> 15\u001b[0;31m         \u001b[0;32mif\u001b[0m \u001b[0mname\u001b[0m \u001b[0;34m<\u001b[0m \u001b[0mguess\u001b[0m\u001b[0;34m:\u001b[0m\u001b[0;34m\u001b[0m\u001b[0m\n\u001b[0m\u001b[1;32m     16\u001b[0m             \u001b[0mupper_bound\u001b[0m \u001b[0;34m=\u001b[0m \u001b[0mindex\u001b[0m \u001b[0;34m-\u001b[0m \u001b[0;36m1\u001b[0m\u001b[0;34m\u001b[0m\u001b[0m\n\u001b[1;32m     17\u001b[0m \u001b[0;34m\u001b[0m\u001b[0m\n",
      "\u001b[0;31mTypeError\u001b[0m: '>' not supported between instances of 'numpy.ndarray' and 'str'"
     ]
    }
   ],
   "source": [
    "# The length of the dataset (number of rows)\n",
    "length = len(nba)\n",
    "\n",
    "def player_age(name):\n",
    "    name = format_name(name)\n",
    "    lower_bound = 0\n",
    "\n",
    "    upper_bound = length - 1\n",
    "    index = int(math.floor((upper_bound + lower_bound) / 2))\n",
    "    \n",
    "    guess = nba.iloc[index,25]\n",
    "    print(guess)\n",
    "    \n",
    "    while name != guess and upper_bound >= lower_bound:\n",
    "        if name < guess:\n",
    "            upper_bound = index - 1\n",
    "\n",
    "        else:\n",
    "            lower_bound = index + 1\n",
    "            #print 'else'\n",
    "            #print lower_bound\n",
    "        index = int(math.floor((lower_bound + upper_bound) / 2))\n",
    "        #print index\n",
    "        guess = nba.iloc[index,25]\n",
    "        #print index\n",
    "        #print guess\n",
    "    if name == guess:\n",
    "        #print guess\n",
    "        #print nba.iloc[index,4]\n",
    "        return nba.iloc[index,4]\n",
    "    else:\n",
    "        return -1\n",
    "    #\"\"\"\n",
    "    \n",
    "curry_age = player_age(\"Stephen Curry\")\n",
    "print(curry_age)\n",
    "#griffin_age = player_age(\"Blake Griffin\")\n",
    "#jordan_age = player_age(\"Michael Jordan\")\n",
    "\n",
    "#print curry_age, griffin_age, jordan_age"
   ]
  },
  {
   "cell_type": "code",
   "execution_count": null,
   "metadata": {
    "collapsed": true
   },
   "outputs": [],
   "source": []
  }
 ],
 "metadata": {
  "kernelspec": {
   "display_name": "Python 3",
   "language": "python",
   "name": "python3"
  },
  "language_info": {
   "codemirror_mode": {
    "name": "ipython",
    "version": 3
   },
   "file_extension": ".py",
   "mimetype": "text/x-python",
   "name": "python",
   "nbconvert_exporter": "python",
   "pygments_lexer": "ipython3",
   "version": "3.6.0"
  }
 },
 "nbformat": 4,
 "nbformat_minor": 0
}
