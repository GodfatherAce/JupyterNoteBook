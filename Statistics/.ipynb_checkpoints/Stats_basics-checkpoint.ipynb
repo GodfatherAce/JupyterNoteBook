{
 "cells": [
  {
   "cell_type": "markdown",
   "metadata": {},
   "source": [
    "# Descriptive Statistics in Python\n",
    "\n",
    "\n",
    "At its core, statistics is a branch of Mathematics that is about counting, measuring and interpreting data.\n",
    "\n",
    "Merriam-Webster dictionary defines statistics as \n",
    "> \"a branch of mathematics dealing with the collection, analysis, interpretation, and presentation of masses of numerical data\"\n",
    "\n",
    "Two main statistical methods are used in data analysis: \n",
    "\n",
    "1. Descriptive statistics: usually summarizes data from a sample using measures such as the mean or standard deviation\n",
    "\n",
    "2. Inferential statistics: which draw conclusions from data that are subject to random variation (e.g., observational errors, sampling variation).\n",
    "\n",
    "In this blogpost, I will cover descriptive statistics using python.\n",
    "\n",
    "Descriptive statistics are are most often concerned with two sets of properties of a distribution of data, central tendency (or location) seeks to characterize the distribution's central or typical value, while dispersion (or variability) characterizes the extent to which members of the distribution depart from its center and each other.\n"
   ]
  },
  {
   "cell_type": "markdown",
   "metadata": {},
   "source": [
    "## Averages and measures of central location\n",
    "\n",
    "Measures of center are statistical numbers that give us a sense of the \"middle\" or \"typical\" of a numeric variable. Common measures of center include the mean, median and mode.\n",
    "\n",
    "Below is a list of functions in python that can be used as measures of central locations using the [statistics module](https://docs.python.org/3/library/statistics.html).   \n",
    "\n",
    "- mean( ): Arithmetic mean (“average”) of data.\n",
    "\n",
    "- harmonic_mean( ): It is the reciprocal of the arithmetic mean of the reciprocals of the data (say for three numbers a,b and c, 1/mean = 3/(1/a + 1/b + 1/c))\n",
    "\n",
    "- median( ): Median or middle value of data. The median is a robust measure of central location, and is less affected by the presence of outliers in your data compared to the mean. When the number of data points is odd, the middle data point is returned.\n",
    "\n",
    "- median_low( ):\tLow median of data.\n",
    "- median_high( ): High median of data.\n",
    "- median_grouped( ): Median, or 50th percentile, of grouped data.\n",
    "- mode( ): Mode (most common value) of discrete data.\n",
    "\n"
   ]
  },
  {
   "cell_type": "code",
   "execution_count": 10,
   "metadata": {
    "collapsed": false
   },
   "outputs": [],
   "source": [
    "# Importing relevant modules\n",
    "\n",
    "import pandas as pd\n",
    "import numpy as np\n",
    "import matplotlib.pyplot as plt\n",
    "import statistics\n",
    "%matplotlib inline \n",
    "\n",
    "plt.style.use('ggplot')\n",
    "plt.rcParams.update({'font.size': 16})"
   ]
  },
  {
   "cell_type": "code",
   "execution_count": 20,
   "metadata": {
    "collapsed": false
   },
   "outputs": [
    {
     "name": "stdout",
     "output_type": "stream",
     "text": [
      "mean =  4.875\n",
      "Harmonic mean =  2.9616571176729836\n",
      "median =  4.0\n",
      "mode =  4\n"
     ]
    }
   ],
   "source": [
    "myData = [1, 2, 3, 4, 4, 7, 8, 10]\n",
    "\n",
    "# Mean\n",
    "print(\"mean = \", statistics.mean(myData))\n",
    "\n",
    "# Harmonic Mean\n",
    "print(\"Harmonic mean = \", statistics.harmonic_mean(myData))\n",
    "\n",
    "# Median\n",
    "print(\"median = \",statistics.median(myData))\n",
    "\n",
    "# Mode\n",
    "print(\"mode = \",statistics.mode(myData))\n"
   ]
  },
  {
   "cell_type": "code",
   "execution_count": null,
   "metadata": {
    "collapsed": true
   },
   "outputs": [],
   "source": [
    "# "
   ]
  }
 ],
 "metadata": {
  "kernelspec": {
   "display_name": "Python 3",
   "language": "python",
   "name": "python3"
  },
  "language_info": {
   "codemirror_mode": {
    "name": "ipython",
    "version": 3
   },
   "file_extension": ".py",
   "mimetype": "text/x-python",
   "name": "python",
   "nbconvert_exporter": "python",
   "pygments_lexer": "ipython3",
   "version": "3.6.0"
  }
 },
 "nbformat": 4,
 "nbformat_minor": 2
}
