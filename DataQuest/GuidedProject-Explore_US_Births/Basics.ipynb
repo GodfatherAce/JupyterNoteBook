{
 "cells": [
  {
   "cell_type": "code",
   "execution_count": 36,
   "metadata": {
    "collapsed": false
   },
   "outputs": [],
   "source": [
    "# create read csv\n",
    "def read_csv(file_name):\n",
    "    # read data from filename\n",
    "    raw_data = open(file_name, 'r').read()\n",
    "\n",
    "    # parse data on \"\\n\"\n",
    "    string_list = raw_data.split(\"\\n\")\n",
    "    \n",
    "    # remove header\n",
    "    print(\"Header: \", string_list[0])\n",
    "    string_list = string_list[1:]\n",
    "    final_list = []\n",
    "\n",
    "    for row in string_list:\n",
    "        int_fields = []\n",
    "        string_fields = row.split(\",\")\n",
    "        for string in string_fields:\n",
    "            int_fields.append(int(string))\n",
    "        final_list.append(int_fields)\n",
    "    return (final_list)   "
   ]
  },
  {
   "cell_type": "code",
   "execution_count": 54,
   "metadata": {
    "collapsed": true
   },
   "outputs": [],
   "source": [
    "# returns counts of birth for a column\n",
    "def calc_counts(data, column):\n",
    "    births_per_col = {}\n",
    "    for row in data:\n",
    "        col = row[column]\n",
    "        births = row[4]\n",
    "        if col in births_per_col:\n",
    "            births_per_col[col] = births_per_col[col] + births\n",
    "        else:\n",
    "            births_per_col[col] = births\n",
    "\n",
    "    return (births_per_col)"
   ]
  },
  {
   "cell_type": "code",
   "execution_count": 51,
   "metadata": {
    "collapsed": false
   },
   "outputs": [
    {
     "name": "stdout",
     "output_type": "stream",
     "text": [
      "Header:  year,month,date_of_month,day_of_week,births\n",
      "[[1994, 1, 1, 6, 8096], [1994, 1, 2, 7, 7772], [1994, 1, 3, 1, 10142], [1994, 1, 4, 2, 11248], [1994, 1, 5, 3, 11053], [1994, 1, 6, 4, 11406], [1994, 1, 7, 5, 11251], [1994, 1, 8, 6, 8653], [1994, 1, 9, 7, 7910], [1994, 1, 10, 1, 10498]]\n"
     ]
    },
    {
     "data": {
      "text/plain": [
       "int"
      ]
     },
     "execution_count": 51,
     "metadata": {},
     "output_type": "execute_result"
    }
   ],
   "source": [
    "# Read data in a stringstream\n",
    "file_name = \"US_births_1994-2003_CDC_NCHS.csv\"\n",
    "\n",
    "cdc_list = read_csv(file_name)\n",
    "print(cdc_list[:10])\n",
    "type(cdc_list[0][0])"
   ]
  },
  {
   "cell_type": "code",
   "execution_count": 58,
   "metadata": {
    "collapsed": false
   },
   "outputs": [
    {
     "data": {
      "text/plain": [
       "{1994: 3952767,\n",
       " 1995: 3899589,\n",
       " 1996: 3891494,\n",
       " 1997: 3880894,\n",
       " 1998: 3941553,\n",
       " 1999: 3959417,\n",
       " 2000: 4058814,\n",
       " 2001: 4025933,\n",
       " 2002: 4021726,\n",
       " 2003: 4089950}"
      ]
     },
     "execution_count": 58,
     "metadata": {},
     "output_type": "execute_result"
    }
   ],
   "source": [
    "cdc_year_births = calc_counts(cdc_list, 0)\n",
    "\n",
    "cdc_month_births = calc_counts(cdc_list, 1)\n",
    "\n",
    "cdc_dom_births = calc_counts(cdc_list, 2)\n",
    "\n",
    "cdc_dow_births = calc_counts(cdc_list, 3)\n",
    "\n",
    "cdc_year_births"
   ]
  },
  {
   "cell_type": "code",
   "execution_count": null,
   "metadata": {
    "collapsed": true
   },
   "outputs": [],
   "source": []
  }
 ],
 "metadata": {
  "anaconda-cloud": {},
  "kernelspec": {
   "display_name": "Python 3",
   "language": "python",
   "name": "python3"
  }
 },
 "nbformat": 4,
 "nbformat_minor": 1
}
